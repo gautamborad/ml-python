{
 "cells": [
  {
   "cell_type": "code",
   "execution_count": 1,
   "metadata": {
    "collapsed": false
   },
   "outputs": [
    {
     "ename": "SyntaxError",
     "evalue": "invalid syntax (<ipython-input-1-22beae4c5166>, line 58)",
     "output_type": "error",
     "traceback": [
      "\u001b[0;36m  File \u001b[0;32m\"<ipython-input-1-22beae4c5166>\"\u001b[0;36m, line \u001b[0;32m58\u001b[0m\n\u001b[0;31m    print cost\u001b[0m\n\u001b[0m             ^\u001b[0m\n\u001b[0;31mSyntaxError\u001b[0m\u001b[0;31m:\u001b[0m invalid syntax\n"
     ]
    }
   ],
   "source": [
    "import numpy as np\n",
    "import matplotlib.pyplot as plt\n",
    "from numpy import ones, zeros\n",
    "\n",
    "size = 5\n",
    "file_path=\"/home/bhavik/analytics/machine-learning-ex1/ex1/ex1data1.txt\"\n",
    "\n",
    "def compute_cost(X, y, theta):\n",
    "    m = y.size\n",
    "#     predictions = X.dot(theta)\n",
    "    predictions = X.dot(theta).flatten()  #hypothesis \n",
    "#     print predictions, y\n",
    "    sqErrors = (predictions - y) ** 2\n",
    "#     print sqErrors\n",
    "    J = (1.0 / (2 * m)) * sqErrors.sum()\n",
    "    return J\n",
    "\n",
    "\n",
    "a = np.identity(size)\n",
    "type(a)\n",
    "\n",
    "b = np.mat(np.eye(size), dtype=int)\n",
    "# print a, \"\\nnext\"\n",
    "# print b,  \"\\nwarmUp Done.\"\n",
    "\n",
    "population,profit = np.genfromtxt(file_path, unpack=True, delimiter=',', dtype=None)\n",
    "# print population\n",
    "# print profit\n",
    "\n",
    "# alpha indicates darkness of marker\n",
    "# plt.scatter(population, profit, s=80, c=\"red\", marker=\"+\", alpha=0.7)\n",
    "# plt.suptitle('Scatter plot of training data', fontsize=20)\n",
    "# plt.xlabel('population', fontsize=18)\n",
    "# plt.xticks(np.arange(4, max(population)+1, 2))\n",
    "\n",
    "# plt.ylabel('profit', fontsize=16)\n",
    "# plt.show()\n",
    "\n",
    "\n",
    "#number of training samples\n",
    "m = profit.size\n",
    "# print m\n",
    "\n",
    "#  np.ones((2, 1))\n",
    "# np.ones((5,), dtype=np.int)\n",
    "it = ones(shape=(m, 2))\n",
    "it[:, 1] = population\n",
    "# print it\n",
    "\n",
    "#initialize theta\n",
    "theta = zeros(shape=(2, 1))\n",
    "# print theta\n",
    "\n",
    "iterations = 1500\n",
    "alpha = 0.01\n",
    "\n",
    "cost = compute_cost(it, profit, theta)\n",
    "print cost\n",
    "\n"
   ]
  },
  {
   "cell_type": "code",
   "execution_count": 1,
   "metadata": {
    "collapsed": false
   },
   "outputs": [
    {
     "ename": "NameError",
     "evalue": "name 'profit' is not defined",
     "output_type": "error",
     "traceback": [
      "\u001b[1;31m---------------------------------------------------------------------------\u001b[0m",
      "\u001b[1;31mNameError\u001b[0m                                 Traceback (most recent call last)",
      "\u001b[1;32m<ipython-input-1-cf46d48c7210>\u001b[0m in \u001b[0;36m<module>\u001b[1;34m()\u001b[0m\n\u001b[0;32m     12\u001b[0m \u001b[1;33m\u001b[0m\u001b[0m\n\u001b[0;32m     13\u001b[0m \u001b[1;31m#number of training samples\u001b[0m\u001b[1;33m\u001b[0m\u001b[1;33m\u001b[0m\u001b[0m\n\u001b[1;32m---> 14\u001b[1;33m \u001b[0mm\u001b[0m \u001b[1;33m=\u001b[0m \u001b[0mprofit\u001b[0m\u001b[1;33m.\u001b[0m\u001b[0msize\u001b[0m\u001b[1;33m\u001b[0m\u001b[0m\n\u001b[0m",
      "\u001b[1;31mNameError\u001b[0m: name 'profit' is not defined"
     ]
    }
   ],
   "source": [
    "# np.ones((len(population), 1), dtype=int)\n",
    "\n",
    "# onesm=np.ones((len(population)),dtype=int)\n",
    "# type(onesm)\n",
    "#print len(onesm)              \n",
    "#print onesm\n",
    "#print len(population)\n",
    "# X = np.r_[\"1,2,0\",onesm,population]\n",
    "# print X\n",
    "\n",
    "\n",
    "\n"
   ]
  }
 ],
 "metadata": {
  "kernelspec": {
   "display_name": "Python 3",
   "language": "python",
   "name": "python3"
  }
 },
 "nbformat": 4,
 "nbformat_minor": 0
}
