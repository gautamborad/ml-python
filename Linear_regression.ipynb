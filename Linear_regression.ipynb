{
 "cells": [
  {
   "cell_type": "code",
   "execution_count": 2,
   "metadata": {
    "collapsed": false
   },
   "outputs": [
    {
     "data": {
      "text/html": [
       "<div>\n",
       "<table border=\"1\" class=\"dataframe\">\n",
       "  <thead>\n",
       "    <tr style=\"text-align: right;\">\n",
       "      <th></th>\n",
       "      <th>x1</th>\n",
       "      <th>y</th>\n",
       "    </tr>\n",
       "  </thead>\n",
       "  <tbody>\n",
       "    <tr>\n",
       "      <th>0</th>\n",
       "      <td>6.1101</td>\n",
       "      <td>17.5920</td>\n",
       "    </tr>\n",
       "    <tr>\n",
       "      <th>1</th>\n",
       "      <td>5.5277</td>\n",
       "      <td>9.1302</td>\n",
       "    </tr>\n",
       "    <tr>\n",
       "      <th>2</th>\n",
       "      <td>8.5186</td>\n",
       "      <td>13.6620</td>\n",
       "    </tr>\n",
       "    <tr>\n",
       "      <th>3</th>\n",
       "      <td>7.0032</td>\n",
       "      <td>11.8540</td>\n",
       "    </tr>\n",
       "    <tr>\n",
       "      <th>4</th>\n",
       "      <td>5.8598</td>\n",
       "      <td>6.8233</td>\n",
       "    </tr>\n",
       "  </tbody>\n",
       "</table>\n",
       "</div>"
      ],
      "text/plain": [
       "       x1        y\n",
       "0  6.1101  17.5920\n",
       "1  5.5277   9.1302\n",
       "2  8.5186  13.6620\n",
       "3  7.0032  11.8540\n",
       "4  5.8598   6.8233"
      ]
     },
     "execution_count": 2,
     "metadata": {},
     "output_type": "execute_result"
    }
   ],
   "source": [
    "import pandas as pd\n",
    "import numpy as np\n",
    "import matplotlib as mpl\n",
    "import matplotlib.pyplot as plt\n",
    "import seaborn as sns\n",
    "from sklearn import datasets, linear_model\n",
    "\n",
    "%matplotlib inline\n",
    "\n",
    "debug = True\n",
    "path = 'exercises/data/ex1data1.txt'\n",
    "data = pd.read_csv(path, header=None, names=['x1', 'y'])\n",
    "\n",
    "data.head()"
   ]
  },
  {
   "cell_type": "code",
   "execution_count": 3,
   "metadata": {
    "collapsed": false
   },
   "outputs": [
    {
     "data": {
      "text/plain": [
       "<matplotlib.axes._subplots.AxesSubplot at 0x108e946d0>"
      ]
     },
     "execution_count": 3,
     "metadata": {},
     "output_type": "execute_result"
    },
    {
     "data": {
      "image/png": "[encoded data removed]",
      "text/plain": [
       "<matplotlib.figure.Figure at 0x1045b5690>"
      ]
     },
     "metadata": {},
     "output_type": "display_data"
    }
   ],
   "source": [
    "data.plot(kind='scatter', x='x1', y='y', figsize=(6,4))  "
   ]
  },
  {
   "cell_type": "code",
   "execution_count": 2,
   "metadata": {
    "collapsed": false
   },
   "outputs": [
    {
     "data": {
      "text/html": [
       "<div>\n",
       "<table border=\"1\" class=\"dataframe\">\n",
       "  <thead>\n",
       "    <tr style=\"text-align: right;\">\n",
       "      <th></th>\n",
       "      <th>x0</th>\n",
       "      <th>x1</th>\n",
       "      <th>y</th>\n",
       "    </tr>\n",
       "  </thead>\n",
       "  <tbody>\n",
       "    <tr>\n",
       "      <th>0</th>\n",
       "      <td>1</td>\n",
       "      <td>6.1101</td>\n",
       "      <td>17.5920</td>\n",
       "    </tr>\n",
       "    <tr>\n",
       "      <th>1</th>\n",
       "      <td>1</td>\n",
       "      <td>5.5277</td>\n",
       "      <td>9.1302</td>\n",
       "    </tr>\n",
       "    <tr>\n",
       "      <th>2</th>\n",
       "      <td>1</td>\n",
       "      <td>8.5186</td>\n",
       "      <td>13.6620</td>\n",
       "    </tr>\n",
       "    <tr>\n",
       "      <th>3</th>\n",
       "      <td>1</td>\n",
       "      <td>7.0032</td>\n",
       "      <td>11.8540</td>\n",
       "    </tr>\n",
       "    <tr>\n",
       "      <th>4</th>\n",
       "      <td>1</td>\n",
       "      <td>5.8598</td>\n",
       "      <td>6.8233</td>\n",
       "    </tr>\n",
       "  </tbody>\n",
       "</table>\n",
       "</div>"
      ],
      "text/plain": [
       "   x0      x1        y\n",
       "0   1  6.1101  17.5920\n",
       "1   1  5.5277   9.1302\n",
       "2   1  8.5186  13.6620\n",
       "3   1  7.0032  11.8540\n",
       "4   1  5.8598   6.8233"
      ]
     },
     "execution_count": 2,
     "metadata": {},
     "output_type": "execute_result"
    }
   ],
   "source": [
    "# Insert first column (X0) with all 1s\n",
    "data.insert(0,'x0',1)\n",
    "data.head()"
   ]
  },
  {
   "cell_type": "markdown",
   "metadata": {
    "collapsed": false
   },
   "source": [
    "\n",
    "## Notes\n",
    "\n",
    "#### Linear Regression sklearn\n",
    "~~~~\n",
    "X                       # numpy array of shape [n_samples(m), n_features(n)]\n",
    "y                       # numpy array of shape [n_samples(m), n_targets(1)]\n",
    "\n",
    "coef_                   # shape (n_features, ) or (n_targets, n_features)\n",
    "intercept_              # array (But we think it cant be array!!)\n",
    "\n",
    " predict(X)\n",
    " X                       # numpy array of shape [n_samples, n_features]\n",
    " C                       # Returns : array of shape [n_samples,]\n",
    "~~~~\n",
    "\n",
    "#### Using Andrew NGs course in matlab, \n",
    "- with 1500 Iterations:\n",
    "`\n",
    "   J = Cost = 4.4834\n",
    "   Theta found by gradient descent: -3.630291 1.166362 \n",
    "   For population = 35,000, we predict a profit of 4519.767868\n",
    "   For population = 70,000, we predict a profit of 45342.450129\n",
    "`\n",
    "- with 5500 Iterations:\n",
    "`   J = Cost = 4.4770\n",
    "   Theta found by gradient descent: -3.895586 1.193014 \n",
    "   For population = 35,000, we predict a profit of 2799.632412\n",
    "   For population = 70,000, we predict a profit of 44555.124696`"
   ]
  },
  {
   "cell_type": "code",
   "execution_count": 3,
   "metadata": {
    "collapsed": false
   },
   "outputs": [],
   "source": [
    "#m = data.y.size    # m : sample size\n",
    "\n",
    "#X_train = X[:-20]  # Start to end - 20\n",
    "#X_test  = X[-20:]  # Last 20\n",
    "#y_train = y[:-20]\n",
    "#y_test  = y[-20:]"
   ]
  },
  {
   "cell_type": "code",
   "execution_count": 4,
   "metadata": {
    "collapsed": false
   },
   "outputs": [],
   "source": [
    "def computeCost(X, y, theta):\n",
    "    if debug:\n",
    "        print(\"shape of X\", X.shape)\n",
    "        print(\"shape of y\", y.shape)\n",
    "        print(\"shape of theta\", theta.shape)\n",
    "        print(\"size of y\", y.size)\n",
    "        print(\"X * theta.T = \", (X * theta.T))\n",
    "    inner = np.power(((X.dot(theta)) - y), 2)\n",
    "    if debug:\n",
    "        print(\"inner is \", np.sum(inner))\n",
    "    return (np.sum(inner) / (2.0 * y.size))\n"
   ]
  },
  {
   "cell_type": "code",
   "execution_count": 5,
   "metadata": {
    "collapsed": true
   },
   "outputs": [],
   "source": [
    "def linearRegressionSKFit(X, y):\n",
    "    regr = linear_model.LinearRegression()\n",
    "    regr.fit(X, y)\n",
    "    return regr\n",
    "\n",
    "def printThethaFromRegr(regr):\n",
    "    sklearn_theta = regr.coef_\n",
    "    sklearn_theta = np.hstack((regr.intercept_,sklearn_theta))  # In [Theta0, Theta1] format\n",
    "    print(\"Theta: \", sklearn_theta)\n",
    "    return sklearn_theta\n",
    "\n",
    "def linearRegressionSKPredict(regr, test_x):\n",
    "    predict_y = regr.predict(test_x.reshape(-1,1))\n",
    "    return predict_y"
   ]
  },
  {
   "cell_type": "code",
   "execution_count": 6,
   "metadata": {
    "collapsed": false
   },
   "outputs": [
    {
     "name": "stdout",
     "output_type": "stream",
     "text": [
      "<class 'pandas.core.series.Series'>\n",
      "Theta:  [-3.89578088  1.19303364]\n",
      "shape of X (97, 2)\n",
      "shape of y (97, 1)\n",
      "shape of theta (2, 1)\n",
      "size of y 97\n",
      "X * theta.T =  [[ 0.  0.]\n",
      " [ 0.  0.]\n",
      " [ 0.  0.]\n",
      " [ 0.  0.]\n",
      " [ 0.  0.]\n",
      " [ 0.  0.]\n",
      " [ 0.  0.]\n",
      " [ 0.  0.]\n",
      " [ 0.  0.]\n",
      " [ 0.  0.]\n",
      " [ 0.  0.]\n",
      " [ 0.  0.]\n",
      " [ 0.  0.]\n",
      " [ 0.  0.]\n",
      " [ 0.  0.]\n",
      " [ 0.  0.]\n",
      " [ 0.  0.]\n",
      " [ 0.  0.]\n",
      " [ 0.  0.]\n",
      " [ 0.  0.]\n",
      " [ 0.  0.]\n",
      " [ 0.  0.]\n",
      " [ 0.  0.]\n",
      " [ 0.  0.]\n",
      " [ 0.  0.]\n",
      " [ 0.  0.]\n",
      " [ 0.  0.]\n",
      " [ 0.  0.]\n",
      " [ 0.  0.]\n",
      " [ 0.  0.]\n",
      " [ 0.  0.]\n",
      " [ 0.  0.]\n",
      " [ 0.  0.]\n",
      " [ 0.  0.]\n",
      " [ 0.  0.]\n",
      " [ 0.  0.]\n",
      " [ 0.  0.]\n",
      " [ 0.  0.]\n",
      " [ 0.  0.]\n",
      " [ 0.  0.]\n",
      " [ 0.  0.]\n",
      " [ 0.  0.]\n",
      " [ 0.  0.]\n",
      " [ 0.  0.]\n",
      " [ 0.  0.]\n",
      " [ 0.  0.]\n",
      " [ 0.  0.]\n",
      " [ 0.  0.]\n",
      " [ 0.  0.]\n",
      " [ 0.  0.]\n",
      " [ 0.  0.]\n",
      " [ 0.  0.]\n",
      " [ 0.  0.]\n",
      " [ 0.  0.]\n",
      " [ 0.  0.]\n",
      " [ 0.  0.]\n",
      " [ 0.  0.]\n",
      " [ 0.  0.]\n",
      " [ 0.  0.]\n",
      " [ 0.  0.]\n",
      " [ 0.  0.]\n",
      " [ 0.  0.]\n",
      " [ 0.  0.]\n",
      " [ 0.  0.]\n",
      " [ 0.  0.]\n",
      " [ 0.  0.]\n",
      " [ 0.  0.]\n",
      " [ 0.  0.]\n",
      " [ 0.  0.]\n",
      " [ 0.  0.]\n",
      " [ 0.  0.]\n",
      " [ 0.  0.]\n",
      " [ 0.  0.]\n",
      " [ 0.  0.]\n",
      " [ 0.  0.]\n",
      " [ 0.  0.]\n",
      " [ 0.  0.]\n",
      " [ 0.  0.]\n",
      " [ 0.  0.]\n",
      " [ 0.  0.]\n",
      " [ 0.  0.]\n",
      " [ 0.  0.]\n",
      " [ 0.  0.]\n",
      " [ 0.  0.]\n",
      " [ 0.  0.]\n",
      " [ 0.  0.]\n",
      " [ 0.  0.]\n",
      " [ 0.  0.]\n",
      " [ 0.  0.]\n",
      " [ 0.  0.]\n",
      " [ 0.  0.]\n",
      " [ 0.  0.]\n",
      " [ 0.  0.]\n",
      " [ 0.  0.]\n",
      " [ 0.  0.]\n",
      " [ 0.  0.]\n",
      " [ 0.  0.]]\n",
      "inner is  6222.11037223\n",
      "Cost (Mean Square error) with theta (0, 0) =  32.0727338775\n",
      "shape of X (97, 2)\n",
      "shape of y (97, 1)\n",
      "shape of theta (2, 1)\n",
      "size of y 97\n",
      "X * theta.T =  [[ -3.89578088   7.28955487]\n",
      " [ -3.89578088   6.59473207]\n",
      " [ -3.89578088  10.1629764 ]\n",
      " [ -3.89578088   8.35505322]\n",
      " [ -3.89578088   6.99093855]\n",
      " [ -3.89578088  10.00108174]\n",
      " [ -3.89578088   8.91959674]\n",
      " [ -3.89578088  10.2339619 ]\n",
      " [ -3.89578088   7.73825482]\n",
      " [ -3.89578088   6.03030786]\n",
      " [ -3.89578088   6.81305723]\n",
      " [ -3.89578088  16.89812854]\n",
      " [ -3.89578088   6.84085492]\n",
      " [ -3.89578088  10.03150409]\n",
      " [ -3.89578088   6.72954488]\n",
      " [ -3.89578088   6.41780519]\n",
      " [ -3.89578088   7.59413636]\n",
      " [ -3.89578088   6.1203819 ]\n",
      " [ -3.89578088   7.67072912]\n",
      " [ -3.89578088   8.43570229]\n",
      " [ -3.89578088   7.38380453]\n",
      " [ -3.89578088  24.18279197]\n",
      " [ -3.89578088   6.54987401]\n",
      " [ -3.89578088   7.54725014]\n",
      " [ -3.89578088   6.63911293]\n",
      " [ -3.89578088  22.60202239]\n",
      " [ -3.89578088  15.30423559]\n",
      " [ -3.89578088  13.07206964]\n",
      " [ -3.89578088  15.7194113 ]\n",
      " [ -3.89578088  26.488926  ]\n",
      " [ -3.89578088   6.26628991]\n",
      " [ -3.89578088   7.8613759 ]\n",
      " [ -3.89578088  11.03341375]\n",
      " [ -3.89578088   7.02911562]\n",
      " [ -3.89578088   9.79611856]\n",
      " [ -3.89578088   9.46481311]\n",
      " [ -3.89578088   9.65868108]\n",
      " [ -3.89578088   6.68850452]\n",
      " [ -3.89578088  15.31377986]\n",
      " [ -3.89578088   7.57981995]\n",
      " [ -3.89578088   6.45061361]\n",
      " [ -3.89578088   8.21105406]\n",
      " [ -3.89578088  13.96803791]\n",
      " [ -3.89578088   6.88821835]\n",
      " [ -3.89578088   9.33513036]\n",
      " [ -3.89578088   8.46230694]\n",
      " [ -3.89578088   6.04891918]\n",
      " [ -3.89578088   6.92126538]\n",
      " [ -3.89578088  13.95849364]\n",
      " [ -3.89578088   6.61131524]\n",
      " [ -3.89578088   8.99571228]\n",
      " [ -3.89578088   6.33226467]\n",
      " [ -3.89578088   8.85696247]\n",
      " [ -3.89578088   9.0707541 ]\n",
      " [ -3.89578088   7.55524346]\n",
      " [ -3.89578088   7.58638164]\n",
      " [ -3.89578088   7.48533169]\n",
      " [ -3.89578088   6.72835184]\n",
      " [ -3.89578088  11.10738183]\n",
      " [ -3.89578088  11.27846286]\n",
      " [ -3.89578088  10.52899912]\n",
      " [ -3.89578088   6.17907915]\n",
      " [ -3.89578088  25.38656291]\n",
      " [ -3.89578088  17.78574557]\n",
      " [ -3.89578088  22.61872486]\n",
      " [ -3.89578088   8.61155545]\n",
      " [ -3.89578088   9.89633338]\n",
      " [ -3.89578088  12.21189238]\n",
      " [ -3.89578088   6.56096922]\n",
      " [ -3.89578088  24.26749736]\n",
      " [ -3.89578088  12.09258902]\n",
      " [ -3.89578088   8.75030526]\n",
      " [ -3.89578088   7.16559867]\n",
      " [ -3.89578088   8.62074181]\n",
      " [ -3.89578088   5.99726083]\n",
      " [ -3.89578088   7.811865  ]\n",
      " [ -3.89578088   8.99380343]\n",
      " [ -3.89578088   6.00871395]\n",
      " [ -3.89578088  12.25722766]\n",
      " [ -3.89578088   6.09365794]\n",
      " [ -3.89578088   6.83512835]\n",
      " [ -3.89578088   6.18993576]\n",
      " [ -3.89578088   7.58256393]\n",
      " [ -3.89578088  11.65438776]\n",
      " [ -3.89578088   7.77368792]\n",
      " [ -3.89578088  10.16130615]\n",
      " [ -3.89578088  10.95228746]\n",
      " [ -3.89578088   7.16058793]\n",
      " [ -3.89578088   6.58602293]\n",
      " [ -3.89578088   6.03603442]\n",
      " [ -3.89578088   6.80947813]\n",
      " [ -3.89578088   9.11072073]\n",
      " [ -3.89578088   7.00394261]\n",
      " [ -3.89578088   6.3295207 ]\n",
      " [ -3.89578088   9.89430522]\n",
      " [ -3.89578088  15.97949263]\n",
      " [ -3.89578088   6.48640462]]\n",
      "inner is  868.532446939\n",
      "shape of X (97, 2)\n",
      "shape of y (97, 1)\n",
      "shape of theta (2, 1)\n",
      "size of y 97\n",
      "X * theta.T =  [[ -3.63029144   7.12659059]\n",
      " [ -3.63029144   6.44730116]\n",
      " [ -3.63029144   9.93577431]\n",
      " [ -3.63029144   8.16826881]\n",
      " [ -3.63029144   6.8346501 ]\n",
      " [ -3.63029144   9.77749894]\n",
      " [ -3.63029144   8.72019147]\n",
      " [ -3.63029144  10.00517287]\n",
      " [ -3.63029144   7.56525947]\n",
      " [ -3.63029144   5.89549513]\n",
      " [ -3.63029144   6.66074547]\n",
      " [ -3.63029144  16.52035633]\n",
      " [ -3.63029144   6.68792171]\n",
      " [ -3.63029144   9.80724118]\n",
      " [ -3.63029144   6.57910011]\n",
      " [ -3.63029144   6.27432963]\n",
      " [ -3.63029144   7.4243629 ]\n",
      " [ -3.63029144   5.98355549]\n",
      " [ -3.63029144   7.49924337]\n",
      " [ -3.63029144   8.2471149 ]\n",
      " [ -3.63029144   7.21873322]\n",
      " [ -3.63029144  23.64216483]\n",
      " [ -3.63029144   6.40344594]\n",
      " [ -3.63029144   7.37852486]\n",
      " [ -3.63029144   6.49068984]\n",
      " [ -3.63029144  22.09673472]\n",
      " [ -3.63029144  14.96209623]\n",
      " [ -3.63029144  12.77983227]\n",
      " [ -3.63029144  15.36799032]\n",
      " [ -3.63029144  25.89674326]\n",
      " [ -3.63029144   6.12620161]\n",
      " [ -3.63029144   7.68562807]\n",
      " [ -3.63029144  10.78675229]\n",
      " [ -3.63029144   6.87197369]\n",
      " [ -3.63029144   9.57711789]\n",
      " [ -3.63029144   9.25321907]\n",
      " [ -3.63029144   9.44275295]\n",
      " [ -3.63029144   6.53897724]\n",
      " [ -3.63029144  14.97142712]\n",
      " [ -3.63029144   7.41036655]\n",
      " [ -3.63029144   6.30640459]\n",
      " [ -3.63029144   8.02748887]\n",
      " [ -3.63029144  13.65577039]\n",
      " [ -3.63029144   6.7342263 ]\n",
      " [ -3.63029144   9.12643548]\n",
      " [ -3.63029144   8.27312478]\n",
      " [ -3.63029144   5.91369039]\n",
      " [ -3.63029144   6.76653454]\n",
      " [ -3.63029144  13.64643949]\n",
      " [ -3.63029144   6.4635136 ]\n",
      " [ -3.63029144   8.79460539]\n",
      " [ -3.63029144   6.19070145]\n",
      " [ -3.63029144   8.65895745]\n",
      " [ -3.63029144   8.86796958]\n",
      " [ -3.63029144   7.38633949]\n",
      " [ -3.63029144   7.41678155]\n",
      " [ -3.63029144   7.31799066]\n",
      " [ -3.63029144   6.57793375]\n",
      " [ -3.63029144  10.85906675]\n",
      " [ -3.63029144  11.02632311]\n",
      " [ -3.63029144  10.29361428]\n",
      " [ -3.63029144   6.04094052]\n",
      " [ -3.63029144  24.81902445]\n",
      " [ -3.63029144  17.38812991]\n",
      " [ -3.63029144  22.11306379]\n",
      " [ -3.63029144   8.41903671]\n",
      " [ -3.63029144   9.67509233]\n",
      " [ -3.63029144  11.93888501]\n",
      " [ -3.63029144   6.41429311]\n",
      " [ -3.63029144  23.72497656]\n",
      " [ -3.63029144  11.82224878]\n",
      " [ -3.63029144   8.55468466]\n",
      " [ -3.63029144   7.00540555]\n",
      " [ -3.63029144   8.4280177 ]\n",
      " [ -3.63029144   5.8631869 ]\n",
      " [ -3.63029144   7.63722403]\n",
      " [ -3.63029144   8.79273921]\n",
      " [ -3.63029144   5.87438398]\n",
      " [ -3.63029144  11.98320678]\n",
      " [ -3.63029144   5.95742898]\n",
      " [ -3.63029144   6.68232318]\n",
      " [ -3.63029144   6.05155442]\n",
      " [ -3.63029144   7.41304919]\n",
      " [ -3.63029144  11.39384389]\n",
      " [ -3.63029144   7.59990044]\n",
      " [ -3.63029144   9.93414141]\n",
      " [ -3.63029144  10.70743965]\n",
      " [ -3.63029144   7.00050682]\n",
      " [ -3.63029144   6.43878672]\n",
      " [ -3.63029144   5.90109367]\n",
      " [ -3.63029144   6.65724639]\n",
      " [ -3.63029144   8.90704272]\n",
      " [ -3.63029144   6.84736345]\n",
      " [ -3.63029144   6.18801881]\n",
      " [ -3.63029144   9.67310951]\n",
      " [ -3.63029144  15.62225732]\n",
      " [ -3.63029144   6.34139546]]\n",
      "inner is  869.777321773\n",
      "Cost (Mean Square error) of sklearn theta =  4.47697137598\n",
      "Cost (Mean Square error) of NG course theta =  4.48338825656\n"
     ]
    },
    {
     "name": "stderr",
     "output_type": "stream",
     "text": [
      "/usr/local/lib/python3.3/site-packages/scipy/linalg/basic.py:884: RuntimeWarning: internal gelsd driver lwork query error, required iwork dimension not returned. This is likely the result of LAPACK bug 0038, fixed in LAPACK 3.2.2 (released July 21, 2010). Falling back to 'gelss' driver.\n",
      "  warnings.warn(mesg, RuntimeWarning)\n"
     ]
    }
   ],
   "source": [
    "X = data['x1']            # Input with first column as 1, X0 (population)\n",
    "print(type(X))            # X is of type Series\n",
    "X = X.reshape(-1, 1)      # Reshape since the orig shape is not in (x,y) format\n",
    "y = data['y']             # Output from sample  (profit)\n",
    "\n",
    "regrData1Ex1 = linearRegressionSKFit(X,y)\n",
    "sklearn_theta = printThethaFromRegr(regrData1Ex1)\n",
    "\n",
    "# Compute cost when theta is 0\n",
    "c1 = computeCost(data.ix[:,0:2].as_matrix(), y.reshape(-1,1), np.array([0,0]).reshape(-1,1) )\n",
    "print(\"Cost (Mean Square error) with theta (0, 0) = \",c1)\n",
    "\n",
    "######################### Print Cost #########################\n",
    "# Compute the costs using original Theta(from manual coding using NG course) and Theta found using sklearn\n",
    "theta = np.array([-3.63029144, 1.16636235])   # Got from some guy online\n",
    "\n",
    "sklearnCost = computeCost(data.ix[:,0:2].as_matrix(), y.reshape(-1,1), sklearn_theta.reshape(-1,1))\n",
    "andrewCost = computeCost(data.ix[:,0:2].as_matrix(), y.reshape(-1,1), theta.reshape(-1,1))\n",
    "print(\"Cost (Mean Square error) of sklearn theta = \",sklearnCost)\n",
    "print(\"Cost (Mean Square error) of NG course theta = \",andrewCost)\n"
   ]
  },
  {
   "cell_type": "code",
   "execution_count": 7,
   "metadata": {
    "collapsed": false
   },
   "outputs": [
    {
     "name": "stdout",
     "output_type": "stream",
     "text": [
      "Profit predicted using skelearn for 7 and 3.5 :  [ 0.27983688  4.45545463]\n"
     ]
    }
   ],
   "source": [
    "######################### Predict the profit #########################\n",
    "# Predict the profit for 7 and 3.5\n",
    "\n",
    "test_x = np.array([3.5,7]).reshape(-1,1)\n",
    "predict_y = linearRegressionSKPredict(regrData1Ex1, test_x)\n",
    "\n",
    "print(\"Profit predicted using skelearn for 7 and 3.5 : \",predict_y)"
   ]
  },
  {
   "cell_type": "code",
   "execution_count": 42,
   "metadata": {
    "collapsed": false,
    "scrolled": false
   },
   "outputs": [
    {
     "name": "stdout",
     "output_type": "stream",
     "text": [
      "Andrew Y   :  [-2.46392909 -1.88074792 -1.29756674 -0.71438557 -0.13120439  0.45197678\n",
      "  1.03515796  1.61833913  2.20152031  2.78470148  3.36788266  3.95106383]\n",
      "SKLearns predict():  [-2.70274723 -2.10623041 -1.50971359 -0.91319677 -0.31667995  0.27983688\n",
      "  0.8763537   1.47287052  2.06938734  2.66590416  3.26242099  3.85893781]\n",
      "test_y - sklearn_y:  [ 0.23881814  0.2254825   0.21214685  0.1988112   0.18547556  0.17213991\n",
      "  0.15880426  0.14546861  0.13213297  0.11879732  0.10546167  0.09212603]\n"
     ]
    },
    {
     "name": "stderr",
     "output_type": "stream",
     "text": [
      "/usr/local/lib/python3.3/site-packages/matplotlib/axes/_axes.py:531: UserWarning: No labelled objects found. Use label='...' kwarg on individual plots.\n",
      "  warnings.warn(\"No labelled objects found. \"\n"
     ]
    },
    {
     "data": {
      "image/png": "[encoded data removed]",
      "text/plain": [
       "<matplotlib.figure.Figure at 0x115a542d0>"
      ]
     },
     "metadata": {},
     "output_type": "display_data"
    }
   ],
   "source": [
    "regr = regrData1Ex1\n",
    "# X in range 1 to 7 with step of .5\n",
    "test_x = np.arange(1,7,.5)\n",
    "\n",
    "# Apply the hypothesis and get Y\n",
    "test_y    = theta[0] + (theta[1] * test_x)\n",
    "\n",
    "# Get y using manual formula application\n",
    "sklearn_y = regr.intercept_ + (regr.coef_[0] * test_x)\n",
    "\n",
    "# Get y using regrs predict() function\n",
    "predict_y = regr.predict(test_x.reshape(-1,1))\n",
    "\n",
    "plt.plot(kind='scatter', x=test_x, y=test_y ,   c='r', label='test_y')\n",
    "\n",
    "plt.plot(kind='scatter', x=test_x, y=sklearn_y, c='g', label='sklearn_y')\n",
    "\n",
    "plt.plot(kind='scatter', x=test_x, y=predict_y, label='predict_y')\n",
    "\n",
    "#print(\"sklearn_theta0 = \",regr.intercept_ )\n",
    "#print(\"sklearn_theta1 = \",regr.coef_)\n",
    "print(\"Andrew Y   : \",test_y)\n",
    "print(\"SKLearns predict(): \",predict_y)\n",
    "#print(\"SKLearns manual formula: \",sklearn_y)\n",
    "print(\"test_y - sklearn_y: \",test_y - predict_y)\n",
    "\n",
    "#plt.plot(Cost_J)\n",
    "#plt.ylabel('Cost J')\n",
    "#plt.xlabel('Iterations');\n",
    "\n",
    "#print(regr.predict(np.array([7,3.5]).reshape(-1,1)))\n",
    "\n",
    "#plt.xlim(4,24)\n",
    "plt.xlabel('Population')\n",
    "plt.ylabel('Profit')\n",
    "plt.legend(loc=1);"
   ]
  },
  {
   "cell_type": "markdown",
   "metadata": {
    "collapsed": true
   },
   "source": [
    "## Multivariate Linear Regression\n",
    "\n",
    "Cost of model should be : 0.13070336960771897\n",
    "\n",
    "### Answers (from various sources)\n",
    "\n",
    "Theta: 340412.7, 110631.1, -6649.474\n",
    "\n",
    "Prediction for a house with 1650 square feet and 3 bedrooms: 293081.5\n",
    "\n",
    "### TODO\n",
    "* Divide the data into X_train and X_test and then use fit()/predict()\n",
    "* After that, plot the Cost vs m and find out variance and bias\n",
    "\n",
    "### Lessons Learned\n",
    "* Normalization should be done only on input features(X)\n",
    "* Shoud normalization be done on Y? (http://stats.stackexchange.com/questions/56699/confusion-related-to-data-normalization)\n",
    "* If you are normalizing train_X, during prection you have to normalize the input X using the same formula!\n",
    "\n"
   ]
  },
  {
   "cell_type": "code",
   "execution_count": 9,
   "metadata": {
    "collapsed": false
   },
   "outputs": [
    {
     "data": {
      "text/plain": [
       "3"
      ]
     },
     "execution_count": 9,
     "metadata": {},
     "output_type": "execute_result"
    }
   ],
   "source": [
    "path2 = '../ex1/ex1data2.txt'\n",
    "data2 = pd.read_csv(path2, header=None, names=['size', 'bhk', 'price'])\n",
    "\n",
    "###################### Exploring the data ########################\n",
    "data2.head()\n",
    "data2.shape[1]"
   ]
  },
  {
   "cell_type": "code",
   "execution_count": 10,
   "metadata": {
    "collapsed": true
   },
   "outputs": [],
   "source": [
    "def featureNormalize(X):\n",
    "    return (X - X.mean()) / X.std()\n",
    "    "
   ]
  },
  {
   "cell_type": "code",
   "execution_count": 11,
   "metadata": {
    "collapsed": false
   },
   "outputs": [
    {
     "data": {
      "text/html": [
       "<div>\n",
       "<table border=\"1\" class=\"dataframe\">\n",
       "  <thead>\n",
       "    <tr style=\"text-align: right;\">\n",
       "      <th></th>\n",
       "      <th>size</th>\n",
       "      <th>bhk</th>\n",
       "    </tr>\n",
       "  </thead>\n",
       "  <tbody>\n",
       "    <tr>\n",
       "      <th>0</th>\n",
       "      <td>0.130010</td>\n",
       "      <td>-0.223675</td>\n",
       "    </tr>\n",
       "    <tr>\n",
       "      <th>1</th>\n",
       "      <td>-0.504190</td>\n",
       "      <td>-0.223675</td>\n",
       "    </tr>\n",
       "    <tr>\n",
       "      <th>2</th>\n",
       "      <td>0.502476</td>\n",
       "      <td>-0.223675</td>\n",
       "    </tr>\n",
       "    <tr>\n",
       "      <th>3</th>\n",
       "      <td>-0.735723</td>\n",
       "      <td>-1.537767</td>\n",
       "    </tr>\n",
       "    <tr>\n",
       "      <th>4</th>\n",
       "      <td>1.257476</td>\n",
       "      <td>1.090417</td>\n",
       "    </tr>\n",
       "  </tbody>\n",
       "</table>\n",
       "</div>"
      ],
      "text/plain": [
       "       size       bhk\n",
       "0  0.130010 -0.223675\n",
       "1 -0.504190 -0.223675\n",
       "2  0.502476 -0.223675\n",
       "3 -0.735723 -1.537767\n",
       "4  1.257476  1.090417"
      ]
     },
     "execution_count": 11,
     "metadata": {},
     "output_type": "execute_result"
    }
   ],
   "source": [
    "norm_X = featureNormalize(data2[['size','bhk']])\n",
    "norm_X.head()\n"
   ]
  },
  {
   "cell_type": "code",
   "execution_count": 12,
   "metadata": {
    "collapsed": false
   },
   "outputs": [],
   "source": [
    "Y = data2['price']\n",
    "norm_Y = featureNormalize(data2['price'])\n",
    "#norm_Y.head()"
   ]
  },
  {
   "cell_type": "code",
   "execution_count": 13,
   "metadata": {
    "collapsed": false
   },
   "outputs": [
    {
     "data": {
      "text/html": [
       "<div>\n",
       "<table border=\"1\" class=\"dataframe\">\n",
       "  <thead>\n",
       "    <tr style=\"text-align: right;\">\n",
       "      <th></th>\n",
       "      <th>x0</th>\n",
       "      <th>size</th>\n",
       "      <th>bhk</th>\n",
       "    </tr>\n",
       "  </thead>\n",
       "  <tbody>\n",
       "    <tr>\n",
       "      <th>0</th>\n",
       "      <td>1</td>\n",
       "      <td>0.130010</td>\n",
       "      <td>-0.223675</td>\n",
       "    </tr>\n",
       "    <tr>\n",
       "      <th>1</th>\n",
       "      <td>1</td>\n",
       "      <td>-0.504190</td>\n",
       "      <td>-0.223675</td>\n",
       "    </tr>\n",
       "    <tr>\n",
       "      <th>2</th>\n",
       "      <td>1</td>\n",
       "      <td>0.502476</td>\n",
       "      <td>-0.223675</td>\n",
       "    </tr>\n",
       "    <tr>\n",
       "      <th>3</th>\n",
       "      <td>1</td>\n",
       "      <td>-0.735723</td>\n",
       "      <td>-1.537767</td>\n",
       "    </tr>\n",
       "    <tr>\n",
       "      <th>4</th>\n",
       "      <td>1</td>\n",
       "      <td>1.257476</td>\n",
       "      <td>1.090417</td>\n",
       "    </tr>\n",
       "  </tbody>\n",
       "</table>\n",
       "</div>"
      ],
      "text/plain": [
       "   x0      size       bhk\n",
       "0   1  0.130010 -0.223675\n",
       "1   1 -0.504190 -0.223675\n",
       "2   1  0.502476 -0.223675\n",
       "3   1 -0.735723 -1.537767\n",
       "4   1  1.257476  1.090417"
      ]
     },
     "execution_count": 13,
     "metadata": {},
     "output_type": "execute_result"
    }
   ],
   "source": [
    "norm_X.insert(0,'x0',1)\n",
    "norm_X.head()"
   ]
  },
  {
   "cell_type": "code",
   "execution_count": 14,
   "metadata": {
    "collapsed": false
   },
   "outputs": [
    {
     "name": "stdout",
     "output_type": "stream",
     "text": [
      "Theta:  [ 340412.65957447  110631.05027885   -6649.47427082]\n",
      "Theta:  [ -1.18669176e-16   8.84765988e-01  -5.31788197e-02]\n"
     ]
    }
   ],
   "source": [
    "X = norm_X[['size','bhk']]            # Input with first column as 1, X0 (population)\n",
    "##X = X.reshape(-1, 1)      # Reshape since the orig shape is not in (x,y) format\n",
    "#y = data2['price']             # Output from sample  (profit)\n",
    "X\n",
    "regrData1Ex2 = linearRegressionSKFit(X, Y)\n",
    "sklearn_theta_ex2 = printThethaFromRegr(regrData1Ex2)\n",
    "\n",
    "regrData1Ex2_normY = linearRegressionSKFit(X, norm_Y)\n",
    "sklearn_theta_ex2_normY = printThethaFromRegr(regrData1Ex2_normY)\n",
    "\n",
    "# Theta:  [ 340412.65957447  110631.05027885   -6649.47427082]   (with original Y)\n",
    "# Theta:  [ -1.18669176e-16   8.84765988e-01  -5.31788197e-02]   (with Y also normalized)"
   ]
  },
  {
   "cell_type": "code",
   "execution_count": 15,
   "metadata": {
    "collapsed": true
   },
   "outputs": [],
   "source": [
    "def computeCostEx2(X, y, theta):\n",
    "    if debug:\n",
    "        print(\"shape of X\", X.shape)\n",
    "        print(\"shape of y\", y.shape)\n",
    "        print(\"shape of theta\", theta.shape)\n",
    "        print(\"size of y\", y.size)\n",
    "        #print(\"X * theta.T = \", (X.dot(theta)))\n",
    "    inner = np.power(((X.dot(theta)) - y), 2)\n",
    "    if debug:\n",
    "        print(\"inner is \", np.sum(inner))\n",
    "    return (np.sum(inner) / (2.0 * y.size))"
   ]
  },
  {
   "cell_type": "code",
   "execution_count": 16,
   "metadata": {
    "collapsed": false
   },
   "outputs": [
    {
     "name": "stdout",
     "output_type": "stream",
     "text": [
      "shape of X (47, 3)\n",
      "shape of y (47,)\n",
      "shape of theta (3,)\n",
      "size of y 47\n",
      "inner is  6.16560552201e+12\n",
      "Cost (Mean Square error) with theta (0, 0) =  65591548106.5\n",
      "shape of X (47, 3)\n",
      "shape of y (47,)\n",
      "shape of theta (3,)\n",
      "size of y 47\n",
      "inner is  192068324757.0\n",
      "Cost (Mean Square error) of sklearn theta =  2043280050.6\n"
     ]
    }
   ],
   "source": [
    "\n",
    "# Compute cost when theta is 0\n",
    "c1 = computeCostEx2(norm_X.ix[:,0:3].as_matrix(), Y, np.array([0,0,0]) )\n",
    "print(\"Cost (Mean Square error) with theta (0, 0) = \",c1)\n",
    "\n",
    "sklearnCost = computeCostEx2(norm_X.ix[:,0:3].as_matrix(), Y, sklearn_theta_ex2)\n",
    "\n",
    "print(\"Cost (Mean Square error) of sklearn theta = \",sklearnCost)\n"
   ]
  },
  {
   "cell_type": "code",
   "execution_count": 36,
   "metadata": {
    "collapsed": false
   },
   "outputs": [
    {
     "name": "stdout",
     "output_type": "stream",
     "text": [
      "[ 356283.1103389   286120.93063401  397489.46984812  269244.1857271\n",
      "  472277.85514636]\n",
      "Using manual multiplication:  293081.464335\n",
      "Using sklearn:  [ 293081.4643349]\n"
     ]
    },
    {
     "name": "stderr",
     "output_type": "stream",
     "text": [
      "/usr/local/lib/python3.3/site-packages/sklearn/utils/validation.py:395: DeprecationWarning: Passing 1d arrays as data is deprecated in 0.17 and will raise ValueError in 0.19. Reshape your data either using X.reshape(-1, 1) if your data has a single feature or X.reshape(1, -1) if it contains a single sample.\n",
      "  DeprecationWarning)\n"
     ]
    }
   ],
   "source": [
    "\n",
    "data2['size_n'] = featureNormalize(data2['size'])\n",
    "data2['bhk_n'] = featureNormalize(data2['bhk'])\n",
    "#print(data2)\n",
    "#print(Y.head())\n",
    "#X.head()\n",
    "predict_Y = regrData1Ex2.predict(X)\n",
    "print(predict_Y[0:5])\n",
    "#print(\"shape of predict_y\")\n",
    "#print(predict_Y - Y)\n",
    "#plt.plot(predict_Y - Y)\n",
    "\n",
    "input_x1 = (1650 - data2['size'].mean())/ data2['size'].std() \n",
    "input_x2 = (3 - data2['bhk'].mean())/ data2['bhk'].std()\n",
    "#            (3 - mean(dta[\"bedrooms\"]))/sd(dta[\"bedrooms\"])\n",
    "\n",
    "\n",
    "test_x = np.array([input_x1, input_x2])\n",
    "\n",
    "sklearn_ex2_y = regrData1Ex2.intercept_ + (test_x.dot(regrData1Ex2.coef_))\n",
    "\n",
    "print(\"Using manual multiplication: \", sklearn_ex2_y)\n",
    "print(\"Using sklearn: \", regrData1Ex2.predict(test_x))"
   ]
  },
  {
   "cell_type": "code",
   "execution_count": null,
   "metadata": {
    "collapsed": true
   },
   "outputs": [],
   "source": []
  }
 ],
 "metadata": {
  "kernelspec": {
   "display_name": "Python 3",
   "language": "python",
   "name": "python3"
  },
  "language_info": {
   "codemirror_mode": {
    "name": "ipython",
    "version": 3
   },
   "file_extension": ".py",
   "mimetype": "text/x-python",
   "name": "python",
   "nbconvert_exporter": "python",
   "pygments_lexer": "ipython3",
   "version": "3.3.3"
  }
 },
 "nbformat": 4,
 "nbformat_minor": 1
}
